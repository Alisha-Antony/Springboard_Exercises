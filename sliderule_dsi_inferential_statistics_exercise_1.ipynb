{
 "cells": [
  {
   "cell_type": "markdown",
   "metadata": {},
   "source": [
    "# What is the True Normal Human Body Temperature? \n",
    "\n",
    "#### Background\n",
    "\n",
    "The mean normal body temperature was held to be 37$^{\\circ}$C or 98.6$^{\\circ}$F for more than 120 years since it was first conceptualized and reported by Carl Wunderlich in a famous 1868 book. But, is this value statistically correct?"
   ]
  },
  {
   "cell_type": "markdown",
   "metadata": {},
   "source": [
    "<h3>Exercises</h3>\n",
    "\n",
    "<p>In this exercise, you will analyze a dataset of human body temperatures and employ the concepts of hypothesis testing, confidence intervals, and statistical significance.</p>\n",
    "\n",
    "<p>Answer the following questions <b>in this notebook below and submit to your Github account</b>.</p> \n",
    "\n",
    "<ol>\n",
    "<li>  Is the distribution of body temperatures normal? \n",
    "    <ul>\n",
    "    <li> Although this is not a requirement for the Central Limit Theorem to hold (read the introduction on Wikipedia's page about the CLT carefully: https://en.wikipedia.org/wiki/Central_limit_theorem), it gives us some peace of mind that the population may also be normally distributed if we assume that this sample is representative of the population.\n",
    "    <li> Think about the way you're going to check for the normality of the distribution. Graphical methods are usually used first, but there are also other ways: https://en.wikipedia.org/wiki/Normality_test\n",
    "    </ul>\n",
    "<li>  Is the sample size large? Are the observations independent?\n",
    "    <ul>\n",
    "    <li> Remember that this is a condition for the Central Limit Theorem, and hence the statistical tests we are using, to apply.\n",
    "    </ul>\n",
    "<li>  Is the true population mean really 98.6 degrees F?\n",
    "    <ul>\n",
    "    <li> First, try a bootstrap hypothesis test.\n",
    "    <li> Now, let's try frequentist statistical testing. Would you use a one-sample or two-sample test? Why?\n",
    "    <li> In this situation, is it appropriate to use the $t$ or $z$ statistic? \n",
    "    <li> Now try using the other test. How is the result be different? Why?\n",
    "    </ul>\n",
    "<li>  Draw a small sample of size 10 from the data and repeat both frequentist tests. \n",
    "    <ul>\n",
    "    <li> Which one is the correct one to use? \n",
    "    <li> What do you notice? What does this tell you about the difference in application of the $t$ and $z$ statistic?\n",
    "    </ul>\n",
    "<li>  At what temperature should we consider someone's temperature to be \"abnormal\"?\n",
    "    <ul>\n",
    "    <li> As in the previous example, try calculating everything using the boostrap approach, as well as the frequentist approach.\n",
    "    <li> Start by computing the margin of error and confidence interval. When calculating the confidence interval, keep in mind that you should use the appropriate formula for one draw, and not N draws.\n",
    "    </ul>\n",
    "<li>  Is there a significant difference between males and females in normal temperature?\n",
    "    <ul>\n",
    "    <li> What testing approach did you use and why?\n",
    "    <li> Write a story with your conclusion in the context of the original problem.\n",
    "    </ul>\n",
    "</ol>\n",
    "\n",
    "You can include written notes in notebook cells using Markdown: \n",
    "   - In the control panel at the top, choose Cell > Cell Type > Markdown\n",
    "   - Markdown syntax: http://nestacms.com/docs/creating-content/markdown-cheat-sheet\n",
    "\n",
    "#### Resources\n",
    "\n",
    "+ Information and data sources: http://www.amstat.org/publications/jse/datasets/normtemp.txt, http://www.amstat.org/publications/jse/jse_data_archive.htm\n",
    "+ Markdown syntax: http://nestacms.com/docs/creating-content/markdown-cheat-sheet\n",
    "\n",
    "****"
   ]
  },
  {
   "cell_type": "code",
   "execution_count": 7,
   "metadata": {},
   "outputs": [],
   "source": [
    "import pandas as pd\n",
    "\n",
    "df = pd.read_csv(r'C:\\Users\\Godfather\\Documents\\Desktop folders\\Data Science\\Springboard\\6.2 (1)-Project Human Body Temperature Using EDA\\human_body_temperature.csv')\n"
   ]
  },
  {
   "cell_type": "code",
   "execution_count": null,
   "metadata": {},
   "outputs": [],
   "source": [
    "# Your work here\n",
    "\n",
    "#Checking the dataset\n",
    "\n",
    "df.info()\n",
    "df.head()"
   ]
  },
  {
   "cell_type": "markdown",
   "metadata": {},
   "source": [
    "# Question 1: Is the distribution of body temperatures normal?\n",
    "\n",
    "1. Although this is not a requirement for the Central Limit Theorem to hold (read the introduction on Wikipedia's page about the CLT carefully: https://en.wikipedia.org/wiki/Central_limit_theorem), it gives us some peace of mind that the population may also be normally distributed if we assume that this sample is representative of the population.\n",
    "\n",
    "2. Think about the way you're going to check for the normality of the distribution. Graphical methods are usually used first, but there are also other ways: https://en.wikipedia.org/wiki/Normality_test\n"
   ]
  },
  {
   "cell_type": "markdown",
   "metadata": {},
   "source": [
    "A normal distribution is a bell-shaped frequency distribution curve. Most of the data values in a normal distribution tend to cluster around the mean.\n",
    "Normal distributions are characterized as being symmetrical, unimodal/bell-shaped, with roughly 68% of the observations falling within 1 standard deviation of the mean AND roughly 95% falling within 1.96 standard deviations of the mean."
   ]
  },
  {
   "cell_type": "code",
   "execution_count": 14,
   "metadata": {},
   "outputs": [
    {
     "data": {
      "image/png": "[encoded data removed]",
      "text/plain": [
       "<Figure size 432x288 with 1 Axes>"
      ]
     },
     "metadata": {
      "needs_background": "light"
     },
     "output_type": "display_data"
    }
   ],
   "source": [
    "# Method 1:\n",
    "# Plotting the sample data\n",
    "\n",
    "import matplotlib.pyplot as plt\n",
    "\n",
    "_ = plt.hist(df['temperature'])\n",
    "_ = plt.xlabel('Body Temperature')\n",
    "_ = plt.ylabel('Number of Observations')\n",
    "plt.show()"
   ]
  },
  {
   "cell_type": "markdown",
   "metadata": {},
   "source": [
    "Here the distribution of body temperatures appear to be roughly symmetrical and bell-shaped."
   ]
  },
  {
   "cell_type": "code",
   "execution_count": 16,
   "metadata": {},
   "outputs": [],
   "source": [
    "# Method 2:\n",
    "# Checking Normality of the body temperature data\n",
    "import numpy as np\n",
    "\n",
    "mean_temp = np.mean(df['temperature'])\n",
    "std_temp = np.std(df['temperature'])\n",
    "samples_temp = np.random.normal(mean_temp, std_temp, size=10000)"
   ]
  },
  {
   "cell_type": "code",
   "execution_count": 19,
   "metadata": {},
   "outputs": [
    {
     "name": "stdout",
     "output_type": "stream",
     "text": [
      "We expect to find roughly 68% of the observations below a body temperature value of -  98.97958854813581\n",
      "We expect to find roughly 95% of the observations below a body temperature value of -  99.68073201588466\n",
      "\n",
      "\n",
      "The sample mean is:  98.24923076923078\n",
      "The sample standard deviation is:  0.7303577789050377\n"
     ]
    }
   ],
   "source": [
    "print('We expect to find roughly 68% of the observations below a body temperature value of - ', \n",
    "      mean_temp + std_temp)\n",
    "print('We expect to find roughly 95% of the observations below a body temperature value of - ', \n",
    "      mean_temp + (1.96*std_temp))\n",
    "\n",
    "print('\\n')\n",
    "\n",
    "print('The sample mean is: ', mean_temp)\n",
    "print('The sample standard deviation is: ', std_temp)"
   ]
  },
  {
   "cell_type": "markdown",
   "metadata": {},
   "source": [
    "**Analysis of Question 1:**\n",
    "\n",
    "The sample data is normally distributed as:\n",
    "\n",
    "a) the distribution of the observations is roughly symmetrical and bimodal \n",
    "\n",
    "b) the sample set confirms to the characteristic that 68% of observations are within 1 standard deviation and that 95% of observations are within 1.96 standard deviations."
   ]
  },
  {
   "cell_type": "markdown",
   "metadata": {},
   "source": [
    "# Question 2: Is the sample size large? Are the observations independent?\n",
    "\n",
    "1. Remember that this is a condition for the Central Limit Theorem, and hence the statistical tests we are using, to apply"
   ]
  },
  {
   "cell_type": "markdown",
   "metadata": {},
   "source": [
    "The sample size of at least 30 units is considered as \"large sample\" (normality assumptions of means usually approximately holds due to the CLT).\n",
    "\n",
    "Here, we will examine if the sample size is greater or lesser than 30. \n",
    "\n",
    "We will also determine if they are independent (check if each observation is unique)"
   ]
  },
  {
   "cell_type": "code",
   "execution_count": 23,
   "metadata": {},
   "outputs": [
    {
     "name": "stdout",
     "output_type": "stream",
     "text": [
      "<class 'pandas.core.frame.DataFrame'>\n",
      "RangeIndex: 130 entries, 0 to 129\n",
      "Data columns (total 3 columns):\n",
      "temperature    130 non-null float64\n",
      "gender         130 non-null object\n",
      "heart_rate     130 non-null float64\n",
      "dtypes: float64(2), object(1)\n",
      "memory usage: 3.1+ KB\n",
      "\n",
      "The temperature column contains  130 observations.\n",
      "\n",
      " Checking if the observations are independent\n"
     ]
    },
    {
     "data": {
      "text/html": [
       "<div>\n",
       "<style scoped>\n",
       "    .dataframe tbody tr th:only-of-type {\n",
       "        vertical-align: middle;\n",
       "    }\n",
       "\n",
       "    .dataframe tbody tr th {\n",
       "        vertical-align: top;\n",
       "    }\n",
       "\n",
       "    .dataframe thead th {\n",
       "        text-align: right;\n",
       "    }\n",
       "</style>\n",
       "<table border=\"1\" class=\"dataframe\">\n",
       "  <thead>\n",
       "    <tr style=\"text-align: right;\">\n",
       "      <th></th>\n",
       "      <th>temperature</th>\n",
       "      <th>gender</th>\n",
       "      <th>heart_rate</th>\n",
       "    </tr>\n",
       "  </thead>\n",
       "  <tbody>\n",
       "    <tr>\n",
       "      <th>0</th>\n",
       "      <td>99.3</td>\n",
       "      <td>F</td>\n",
       "      <td>68.0</td>\n",
       "    </tr>\n",
       "    <tr>\n",
       "      <th>1</th>\n",
       "      <td>98.4</td>\n",
       "      <td>F</td>\n",
       "      <td>81.0</td>\n",
       "    </tr>\n",
       "    <tr>\n",
       "      <th>2</th>\n",
       "      <td>97.8</td>\n",
       "      <td>M</td>\n",
       "      <td>73.0</td>\n",
       "    </tr>\n",
       "    <tr>\n",
       "      <th>3</th>\n",
       "      <td>99.2</td>\n",
       "      <td>F</td>\n",
       "      <td>66.0</td>\n",
       "    </tr>\n",
       "    <tr>\n",
       "      <th>4</th>\n",
       "      <td>98.0</td>\n",
       "      <td>F</td>\n",
       "      <td>73.0</td>\n",
       "    </tr>\n",
       "    <tr>\n",
       "      <th>5</th>\n",
       "      <td>99.2</td>\n",
       "      <td>M</td>\n",
       "      <td>83.0</td>\n",
       "    </tr>\n",
       "    <tr>\n",
       "      <th>6</th>\n",
       "      <td>98.0</td>\n",
       "      <td>M</td>\n",
       "      <td>71.0</td>\n",
       "    </tr>\n",
       "    <tr>\n",
       "      <th>7</th>\n",
       "      <td>98.8</td>\n",
       "      <td>M</td>\n",
       "      <td>78.0</td>\n",
       "    </tr>\n",
       "    <tr>\n",
       "      <th>8</th>\n",
       "      <td>98.4</td>\n",
       "      <td>F</td>\n",
       "      <td>84.0</td>\n",
       "    </tr>\n",
       "    <tr>\n",
       "      <th>9</th>\n",
       "      <td>98.6</td>\n",
       "      <td>F</td>\n",
       "      <td>86.0</td>\n",
       "    </tr>\n",
       "  </tbody>\n",
       "</table>\n",
       "</div>"
      ],
      "text/plain": [
       "   temperature gender  heart_rate\n",
       "0         99.3      F        68.0\n",
       "1         98.4      F        81.0\n",
       "2         97.8      M        73.0\n",
       "3         99.2      F        66.0\n",
       "4         98.0      F        73.0\n",
       "5         99.2      M        83.0\n",
       "6         98.0      M        71.0\n",
       "7         98.8      M        78.0\n",
       "8         98.4      F        84.0\n",
       "9         98.6      F        86.0"
      ]
     },
     "execution_count": 23,
     "metadata": {},
     "output_type": "execute_result"
    }
   ],
   "source": [
    "df.info()\n",
    "print('\\nThe temperature column contains ', len(df['temperature']), 'observations.')\n",
    "print('\\n Checking if the observations are independent')\n",
    "df.head(10)"
   ]
  },
  {
   "cell_type": "markdown",
   "metadata": {},
   "source": [
    "**Analysis of Question 2:**\n",
    "\n",
    "a) The dataset contains 130 observations and thus we can consider the sample size to be large\n",
    "\n",
    "b) To consider the observations to be independent means that knowing the outcome of one sample would provide no information about another sample. Here, knowing one person's body temperature gives no information about any other person's body temperature."
   ]
  },
  {
   "cell_type": "markdown",
   "metadata": {},
   "source": [
    "# Question 3: Is the true population mean really 98.6 degrees F?\n",
    "\n",
    "1. First, try a bootstrap hypothesis test.\n",
    "2. Now, let's try frequentist statistical testing. Would you use a one-sample or two-sample test? Why?\n",
    "3. In this situation, is it appropriate to use the  𝑡  or  𝑧  statistic?\n",
    "4. Now try using the other test. How is the result be different? Why?\n"
   ]
  },
  {
   "cell_type": "markdown",
   "metadata": {},
   "source": [
    "Ho (Null Hypothesis): True mean population temperature = 98.6 F \n",
    "\n",
    "Ho = 98.6\n",
    "\n",
    "Ha (Alternative Hypothesis): True mean population temperature ≠ 98.6 F \n",
    "\n",
    "Ha ≠ 98.6"
   ]
  },
  {
   "cell_type": "code",
   "execution_count": 24,
   "metadata": {},
   "outputs": [
    {
     "data": {
      "text/html": [
       "<div>\n",
       "<style scoped>\n",
       "    .dataframe tbody tr th:only-of-type {\n",
       "        vertical-align: middle;\n",
       "    }\n",
       "\n",
       "    .dataframe tbody tr th {\n",
       "        vertical-align: top;\n",
       "    }\n",
       "\n",
       "    .dataframe thead th {\n",
       "        text-align: right;\n",
       "    }\n",
       "</style>\n",
       "<table border=\"1\" class=\"dataframe\">\n",
       "  <thead>\n",
       "    <tr style=\"text-align: right;\">\n",
       "      <th></th>\n",
       "      <th>temperature</th>\n",
       "      <th>heart_rate</th>\n",
       "    </tr>\n",
       "  </thead>\n",
       "  <tbody>\n",
       "    <tr>\n",
       "      <th>count</th>\n",
       "      <td>130.000000</td>\n",
       "      <td>130.000000</td>\n",
       "    </tr>\n",
       "    <tr>\n",
       "      <th>mean</th>\n",
       "      <td>98.249231</td>\n",
       "      <td>73.761538</td>\n",
       "    </tr>\n",
       "    <tr>\n",
       "      <th>std</th>\n",
       "      <td>0.733183</td>\n",
       "      <td>7.062077</td>\n",
       "    </tr>\n",
       "    <tr>\n",
       "      <th>min</th>\n",
       "      <td>96.300000</td>\n",
       "      <td>57.000000</td>\n",
       "    </tr>\n",
       "    <tr>\n",
       "      <th>25%</th>\n",
       "      <td>97.800000</td>\n",
       "      <td>69.000000</td>\n",
       "    </tr>\n",
       "    <tr>\n",
       "      <th>50%</th>\n",
       "      <td>98.300000</td>\n",
       "      <td>74.000000</td>\n",
       "    </tr>\n",
       "    <tr>\n",
       "      <th>75%</th>\n",
       "      <td>98.700000</td>\n",
       "      <td>79.000000</td>\n",
       "    </tr>\n",
       "    <tr>\n",
       "      <th>max</th>\n",
       "      <td>100.800000</td>\n",
       "      <td>89.000000</td>\n",
       "    </tr>\n",
       "  </tbody>\n",
       "</table>\n",
       "</div>"
      ],
      "text/plain": [
       "       temperature  heart_rate\n",
       "count   130.000000  130.000000\n",
       "mean     98.249231   73.761538\n",
       "std       0.733183    7.062077\n",
       "min      96.300000   57.000000\n",
       "25%      97.800000   69.000000\n",
       "50%      98.300000   74.000000\n",
       "75%      98.700000   79.000000\n",
       "max     100.800000   89.000000"
      ]
     },
     "execution_count": 24,
     "metadata": {},
     "output_type": "execute_result"
    }
   ],
   "source": [
    "df.describe()"
   ]
  },
  {
   "cell_type": "markdown",
   "metadata": {},
   "source": [
    "**3.1 Bootstrap Hypothesis Test - 100000 samples**"
   ]
  },
  {
   "cell_type": "code",
   "execution_count": 28,
   "metadata": {},
   "outputs": [
    {
     "name": "stdout",
     "output_type": "stream",
     "text": [
      "p-value: 0.0\n",
      "mean: 98.249\n"
     ]
    }
   ],
   "source": [
    "# bootstrap hypothesis test with 100000 samples\n",
    "bs_test = np.empty(100000)\n",
    "\n",
    "size = len(bs_test)\n",
    "\n",
    "for i in range(size):\n",
    "    bs_sample = np.random.choice(df.temperature, len(df.temperature))\n",
    "    bs_test[i] = np.mean(bs_sample)\n",
    "    \n",
    "p = np.sum(bs_test >= 98.6) / size\n",
    "\n",
    "print('p-value: {}'.format(p))\n",
    "print('mean: {:0.5}'.format(np.mean(bs_test)))"
   ]
  },
  {
   "cell_type": "markdown",
   "metadata": {},
   "source": [
    "**Analysis of Question 3.1:**\n",
    "\n",
    "a) With 100000 samples, the p-value is 0.0, stating that the null hypothesis should be rejected.\n",
    "\n",
    "b) The mean body temperature of the sample is 98.249"
   ]
  },
  {
   "cell_type": "markdown",
   "metadata": {},
   "source": [
    "**3.2 Frequentist Statistical Testing**\n",
    "\n",
    "Now, let's try frequentist statistical testing. Would you use a one-sample or two-sample test? Why?"
   ]
  },
  {
   "cell_type": "markdown",
   "metadata": {},
   "source": [
    "**Analysis of Question 3.2**\n",
    "\n",
    "Frequentist inference is a type of statistical inference that draws conclusions from sample data by emphasizing the frequency or proportion of the data. An alternative name is frequentist statistics.\n",
    "\n",
    "When comparing the mean of a single sample to a population with a hypothesised mean, a one-sample t-test is appropriate."
   ]
  },
  {
   "cell_type": "markdown",
   "metadata": {},
   "source": [
    "**3.3 In this situation, is it appropriate to use the  𝑡  or  𝑧  statistic?**"
   ]
  },
  {
   "cell_type": "markdown",
   "metadata": {},
   "source": [
    "**Analysis of Question 3.3**\n",
    "\n",
    "Z - statistic = Z = (x – μ) / (σ / √n) where, μ is the population mean and σ is the population standard deviation. \n",
    "\n",
    "t - statistic = t = (x – μ) / (s / √n) where, μ is the hypothesised population mean and s is the sample standard deviation.\n",
    "\n",
    "Z-statistic requires the population standard deviation, which is unknown. \n",
    "The t-statistic requires only the sample standard deviation, which can be derived. \n",
    "Without knowing the population standard deviation, the only choice is to use the t-statistic."
   ]
  },
  {
   "cell_type": "markdown",
   "metadata": {},
   "source": [
    "**3.4 Now try using the other test. How is the result be different? Why?**\n",
    "\n",
    "A two-tailed test is required, since the alternative hypothesis is that there is a statistically-significant difference between the sample mean and the hypothetical population mean of 98.6, rather than testing whether the actual mean temperature is greater than or less than the hypothesised 98.6."
   ]
  },
  {
   "cell_type": "code",
   "execution_count": 31,
   "metadata": {},
   "outputs": [
    {
     "name": "stdout",
     "output_type": "stream",
     "text": [
      "t-score: -5.45482\n",
      "p-value: 0.0\n"
     ]
    }
   ],
   "source": [
    "import scipy.stats as stats\n",
    "import statsmodels.stats as smd\n",
    "\n",
    "t_statistic = stats.ttest_1samp(df.temperature, 98.6)\n",
    "print('t-score: {}\\np-value: {}'.format(round(t_statistic.statistic, 5), round(t_statistic.pvalue, 5)))"
   ]
  },
  {
   "cell_type": "markdown",
   "metadata": {},
   "source": [
    "**Analysis of Question 3.4**\n",
    "\n",
    "The t-Statistic is -5 with a p-value of 0.0"
   ]
  },
  {
   "cell_type": "markdown",
   "metadata": {},
   "source": [
    "# Question 4: Draw a small sample of size 10 from the data and repeat both frequentist tests.\n",
    "\n",
    "Which one is the correct one to use?\n",
    "What do you notice? What does this tell you about the difference in application of the  𝑡  and  𝑧  statistic?"
   ]
  },
  {
   "cell_type": "code",
   "execution_count": 32,
   "metadata": {},
   "outputs": [
    {
     "name": "stdout",
     "output_type": "stream",
     "text": [
      "t-score: -1.077\n",
      "p-value: 0.3093\n"
     ]
    }
   ],
   "source": [
    "# Getting a random sample of 10 observations\n",
    "np.random.seed(7)\n",
    "rand_samp = np.random.choice(df['temperature'], size=10)\n",
    "\n",
    "test = stats.ttest_1samp(rand_samp, 98.6)\n",
    "print('t-score: {:0.4}\\np-value: {:0.4}'.format(test.statistic, test.pvalue))"
   ]
  },
  {
   "cell_type": "markdown",
   "metadata": {},
   "source": [
    "**Analysis of Question 4:**\n",
    "\n",
    "Since the population standard deviation is unknown, the t-test is the only option available. \n",
    "\n",
    "The p-value is greater than 0.05, so the null hypothesis cannot be rejected on the basis of this test."
   ]
  },
  {
   "cell_type": "markdown",
   "metadata": {},
   "source": [
    "# Question 5: At what temperature should we consider someone's temperature to be \"abnormal\"?\n",
    "\n",
    "As in the previous example, try calculating everything using the boostrap approach, as well as the frequentist approach.\n",
    "\n",
    "Start by computing the margin of error and confidence interval. When calculating the confidence interval, keep in mind that you should use the appropriate formula for one draw, and not N draws."
   ]
  },
  {
   "cell_type": "code",
   "execution_count": 33,
   "metadata": {},
   "outputs": [
    {
     "name": "stdout",
     "output_type": "stream",
     "text": [
      "sample mean: 98.25\n",
      "sample standard deviation: 0.7304\n",
      "\n"
     ]
    }
   ],
   "source": [
    "# Getting the sample mean and standard deviation to use with bootstrap and frequentist approaches later on\n",
    "\n",
    "x_bar = np.mean(df.temperature)\n",
    "s = np.std(df.temperature)\n",
    "print('sample mean: {:0.4}\\nsample standard deviation: {:0.4}\\n'.format(x_bar, s))"
   ]
  },
  {
   "cell_type": "markdown",
   "metadata": {},
   "source": [
    "**Bootstrap**"
   ]
  },
  {
   "cell_type": "code",
   "execution_count": 36,
   "metadata": {},
   "outputs": [
    {
     "name": "stdout",
     "output_type": "stream",
     "text": [
      "p-value: 0.0\n",
      "95% confidence interval: 96.818 - 99.68\n",
      "margin of error: +/-1.4315\n",
      "\n",
      "\n"
     ]
    }
   ],
   "source": [
    "# bootstrap hypothesis test with 100000 samples\n",
    "bs_replicates = np.empty(100000)\n",
    "\n",
    "size = len(bs_replicates)\n",
    "\n",
    "for i in range(size):\n",
    "    bs_samp = np.random.choice(df.temperature, len(df.temperature))\n",
    "    bs_replicates[i] = np.mean(bs_samp)\n",
    "    \n",
    "p_value = np.sum(bs_replicates >= 98.6) / size\n",
    "print('p-value: {}'.format(p_value))\n",
    "\n",
    "x_bar = np.mean(bs_replicates)\n",
    "ci = stats.norm.interval(0.95, loc=x_bar, scale=s)\n",
    "\n",
    "print('95% confidence interval: {:0.5} - {:0.5}'.format(ci[0], ci[1]))\n",
    "print('margin of error: +/-{:0.5}\\n\\n'.format((ci[1] - x_bar)))"
   ]
  },
  {
   "cell_type": "markdown",
   "metadata": {},
   "source": [
    "**Frequentist Approach**"
   ]
  },
  {
   "cell_type": "code",
   "execution_count": 42,
   "metadata": {},
   "outputs": [
    {
     "name": "stdout",
     "output_type": "stream",
     "text": [
      "95% confidence interval: 96.818 - 99.68\n",
      "margin of error: +/-1.4315\n"
     ]
    }
   ],
   "source": [
    "# Frequentist Approach - Confidence Interval for the one-sample t-test\n",
    "\n",
    "# Considering alpha = 0.05, confidence coefficient = 95%\n",
    "\n",
    "# confidence interval for one draw\n",
    "ci_low, ci_high = stats.norm.interval(0.95, loc=x_bar, scale=s)\n",
    "print('95% confidence interval: {:0.5} - {:0.5}'.format(ci_low, ci_high))\n",
    "\n",
    "# margin of error \n",
    "print('margin of error: +/-{:0.5}'.format((ci_high - x_bar))) "
   ]
  },
  {
   "cell_type": "markdown",
   "metadata": {},
   "source": [
    "**Analysis of Question 5:**\n",
    "\n",
    "According to both the Bootstrap and Frequentist approaches, using the mean we calculated (98.25), and at a 95% confidence interval, a temperature below 96.818 or above 99.681 would be considered abnormal."
   ]
  },
  {
   "cell_type": "markdown",
   "metadata": {},
   "source": [
    "# Question 6: Is there a significant difference between males and females in normal temperature?\n",
    "\n",
    "What testing approach did you use and why?\n",
    "Write a story with your conclusion in the context of the original problem."
   ]
  },
  {
   "cell_type": "markdown",
   "metadata": {},
   "source": [
    "__Hypotheses:__\n",
    "\n",
    "Ho : Xm = Xf\n",
    "\n",
    "Ha : Xm ≠ Xf"
   ]
  },
  {
   "cell_type": "code",
   "execution_count": 49,
   "metadata": {},
   "outputs": [
    {
     "name": "stdout",
     "output_type": "stream",
     "text": [
      "There are 65 males in the sample and their mean temperature is 98.1046153846154 \n",
      "There are 65 females in the sample and their mean temperature is 98.39384615384613\n"
     ]
    }
   ],
   "source": [
    "male_df = df[df['gender'] == 'M']\n",
    "female_df = df[df['gender'] == 'F']\n",
    "\n",
    "print('There are {} males in the sample and their mean temperature is {} '.format(len(male_df), \n",
    "                                                                                     male_df['temperature'].mean()))\n",
    "print('There are {} females in the sample and their mean temperature is {}'.format(len(female_df), \n",
    "                                                                                       female_df['temperature'].mean()))"
   ]
  },
  {
   "cell_type": "code",
   "execution_count": 51,
   "metadata": {},
   "outputs": [
    {
     "name": "stdout",
     "output_type": "stream",
     "text": [
      "The t-statistic is -2.2854 and the p-value is 0.0239.\n"
     ]
    }
   ],
   "source": [
    "# Comparing the male sample mean to the female sample mean\n",
    "import scipy.stats as st\n",
    "two_tailed = st.ttest_ind(male_df['temperature'], female_df['temperature'])\n",
    "print('The t-statistic is %.4f and the p-value is %.4f.' % two_tailed)"
   ]
  },
  {
   "cell_type": "markdown",
   "metadata": {},
   "source": [
    "**Analysis of Question 6:**\n",
    "\n",
    "The sample consists of 130 samples; 65 males and 65 females.\n",
    "\n",
    "The distributions for both samples approximate the standard normal distribution and both sample sizes are sufficiently large, so the Central Limit Theorem applies and inferences can be made based on the properties of the normal distribution.\n",
    "\n",
    "Ho : Xm = Xf\n",
    "\n",
    "Ha : Xm ≠ Xf\n",
    "\n",
    "Because the null hypothesis is that the means are equal, a two-tailed test is required.\n",
    "\n",
    "This is a statistical significance, but not a practical significance because of the nature of human temperatures."
   ]
  }
 ],
 "metadata": {
  "kernelspec": {
   "display_name": "Python 3",
   "language": "python",
   "name": "python3"
  },
  "language_info": {
   "codemirror_mode": {
    "name": "ipython",
    "version": 3
   },
   "file_extension": ".py",
   "mimetype": "text/x-python",
   "name": "python",
   "nbconvert_exporter": "python",
   "pygments_lexer": "ipython3",
   "version": "3.7.3"
  }
 },
 "nbformat": 4,
 "nbformat_minor": 1
}
